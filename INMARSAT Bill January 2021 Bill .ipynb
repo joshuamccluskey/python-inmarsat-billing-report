{
 "cells": [
  {
   "cell_type": "markdown",
   "metadata": {},
   "source": [
    "# INMARSAT January Bill 2021"
   ]
  },
  {
   "cell_type": "markdown",
   "metadata": {},
   "source": [
    "## Import Libraries"
   ]
  },
  {
   "cell_type": "code",
   "execution_count": 1,
   "metadata": {},
   "outputs": [],
   "source": [
    "import pandas as pd\n",
    "\n",
    "import numpy as np\n",
    "\n",
    "import re\n",
    "\n",
    "import os"
   ]
  },
  {
   "cell_type": "markdown",
   "metadata": {},
   "source": [
    "## Cleaning Data: \n",
    "1. Uploading Invoice, 2. Removing NaNs, 3. Renaming Columns Needed, 4. Filtering Totals, 5. Resetting Index To Current Filtered Rows, 6. Removing 'Unamed' Columns, 7. Getting ID Numbers For New 'IDs' Column, 8. Getting Amounts Creating New 'Amounts Due' Column, 9. Turning Amounts Due from Strings of Text into Numbers, 10. Removing 'ID' and 'Totals' Column, 11. Saving Version to .csv, 12. Checking My Work, 13. Checking Amounts Due Totals"
   ]
  },
  {
   "cell_type": "code",
   "execution_count": 2,
   "metadata": {
    "scrolled": false
   },
   "outputs": [
    {
     "data": {
      "text/html": [
       "<div>\n",
       "<style scoped>\n",
       "    .dataframe tbody tr th:only-of-type {\n",
       "        vertical-align: middle;\n",
       "    }\n",
       "\n",
       "    .dataframe tbody tr th {\n",
       "        vertical-align: top;\n",
       "    }\n",
       "\n",
       "    .dataframe thead th {\n",
       "        text-align: right;\n",
       "    }\n",
       "</style>\n",
       "<table border=\"1\" class=\"dataframe\">\n",
       "  <thead>\n",
       "    <tr style=\"text-align: right;\">\n",
       "      <th></th>\n",
       "      <th>Bill To:</th>\n",
       "      <th>IDs</th>\n",
       "      <th>Amounts Due</th>\n",
       "    </tr>\n",
       "  </thead>\n",
       "  <tbody>\n",
       "    <tr>\n",
       "      <th>0</th>\n",
       "      <td>10/11/2019 -</td>\n",
       "      <td>000000000100</td>\n",
       "      <td>13.79</td>\n",
       "    </tr>\n",
       "    <tr>\n",
       "      <th>1</th>\n",
       "      <td></td>\n",
       "      <td>000000000101</td>\n",
       "      <td>13.79</td>\n",
       "    </tr>\n",
       "    <tr>\n",
       "      <th>2</th>\n",
       "      <td></td>\n",
       "      <td>000000000102</td>\n",
       "      <td>13.79</td>\n",
       "    </tr>\n",
       "    <tr>\n",
       "      <th>3</th>\n",
       "      <td></td>\n",
       "      <td>000000000103</td>\n",
       "      <td>13.79</td>\n",
       "    </tr>\n",
       "    <tr>\n",
       "      <th>4</th>\n",
       "      <td></td>\n",
       "      <td>000000000104</td>\n",
       "      <td>13.79</td>\n",
       "    </tr>\n",
       "    <tr>\n",
       "      <th>...</th>\n",
       "      <td>...</td>\n",
       "      <td>...</td>\n",
       "      <td>...</td>\n",
       "    </tr>\n",
       "    <tr>\n",
       "      <th>496</th>\n",
       "      <td></td>\n",
       "      <td>881651461225</td>\n",
       "      <td>15.44</td>\n",
       "    </tr>\n",
       "    <tr>\n",
       "      <th>497</th>\n",
       "      <td></td>\n",
       "      <td>881651477444</td>\n",
       "      <td>15.44</td>\n",
       "    </tr>\n",
       "    <tr>\n",
       "      <th>498</th>\n",
       "      <td></td>\n",
       "      <td>881651477445</td>\n",
       "      <td>32.44</td>\n",
       "    </tr>\n",
       "    <tr>\n",
       "      <th>499</th>\n",
       "      <td></td>\n",
       "      <td>881651477579</td>\n",
       "      <td>60.69</td>\n",
       "    </tr>\n",
       "    <tr>\n",
       "      <th>500</th>\n",
       "      <td></td>\n",
       "      <td>881651477580</td>\n",
       "      <td>15.44</td>\n",
       "    </tr>\n",
       "  </tbody>\n",
       "</table>\n",
       "<p>501 rows × 3 columns</p>\n",
       "</div>"
      ],
      "text/plain": [
       "         Bill To:           IDs  Amounts Due\n",
       "0    10/11/2019 -  000000000100        13.79\n",
       "1                  000000000101        13.79\n",
       "2                  000000000102        13.79\n",
       "3                  000000000103        13.79\n",
       "4                  000000000104        13.79\n",
       "..            ...           ...          ...\n",
       "496                881651461225        15.44\n",
       "497                881651477444        15.44\n",
       "498                881651477445        32.44\n",
       "499                881651477579        60.69\n",
       "500                881651477580        15.44\n",
       "\n",
       "[501 rows x 3 columns]"
      ]
     },
     "execution_count": 2,
     "metadata": {},
     "output_type": "execute_result"
    }
   ],
   "source": [
    "df = pd.read_csv('January_2021_Invoice.csv') #1. Uploading Invoice\n",
    "\n",
    "df = df.fillna(\"\") #2. Removing NaNs\n",
    "\n",
    "df = df.rename(columns={\"Unnamed: 8\": \"ID\", \"Unnamed: 19\": \"Totals\"}) #3. Renaming Columns Needed\n",
    "\n",
    "df = df.loc[df['ID'].str.contains('^to[a-z]*', flags=re.I, regex=True)] #4. Filtering Totals\n",
    "\n",
    "df = df.reset_index(drop=True) #5. Resetting Index To Current Filtered Rows\n",
    "\n",
    "df = df.loc[:, ~df.columns.str.contains('^Unnamed')] #6. Removing 'Unamed' Columns\n",
    "\n",
    "def get_ID(ID):\n",
    "    return ID.split(' ')[2] #7. Getting ID Numbers For New 'IDs' Column\n",
    "\n",
    "df['IDs'] = df['ID'].apply(lambda x: get_ID(x)) #7. Getting ID Numbers For New 'IDs' Column\n",
    "\n",
    "df['Amounts Due'] = df['Totals'].apply(lambda x: x.split('$')[1]) #8. Getting Amounts Creating New 'Amounts Due' Column\n",
    "\n",
    "df['Amounts Due'] = pd.to_numeric(df['Amounts Due']) #9. Turning Amounts Due from Strings of Text into Numbers\n",
    "\n",
    "df = df.drop(columns=['ID', 'Totals']) #10. Removing 'ID' and 'Totals' Column\n",
    "\n",
    "df.to_excel('INMARSAT January 2021.xlsx', index=False) #11. Saving Version to CSV\n",
    "\n",
    "df #12. Checking My Work"
   ]
  },
  {
   "cell_type": "code",
   "execution_count": 3,
   "metadata": {
    "scrolled": false
   },
   "outputs": [
    {
     "data": {
      "text/plain": [
       "Bill To:       10/11/2019 -10/11/2019 -10/11/2019 -10/11/2019...\n",
       "IDs            0000000001000000000001010000000001020000000001...\n",
       "Amounts Due                                              14435.3\n",
       "dtype: object"
      ]
     },
     "execution_count": 3,
     "metadata": {},
     "output_type": "execute_result"
    }
   ],
   "source": [
    "df.sum(axis = 0, skipna = True) #13. Checking Amounts Due Totals"
   ]
  },
  {
   "cell_type": "markdown",
   "metadata": {},
   "source": [
    "## Merging .csv Files Based on ID Numbers\n",
    "1. Defining Our Previous Notebook Saved, 2. PI and ID Number Data, 3. Uploading Data, 4. Printing to see our columns, 5. Merging Our Files Based on ID Number, 6. Saving Version to .csv, 7. Checking My Work, 8. Checking Amounts Due Totals"
   ]
  },
  {
   "cell_type": "code",
   "execution_count": 5,
   "metadata": {
    "scrolled": true
   },
   "outputs": [
    {
     "name": "stdout",
     "output_type": "stream",
     "text": [
      "Index(['Bill To:', 'IDs', 'Amounts Due'], dtype='object')\n",
      "Index(['IDs', 'ICCID', 'MSISDN-C', 'Type', 'PI'], dtype='object')\n"
     ]
    }
   ],
   "source": [
    "initial_workbook = 'INMARSAT January 2021.xlsx' #1. Defining Our Previous Notebook Saved\n",
    "info_workbook = 'Active DF COMPLETE 26 May.xlsx' #2. Defining PI and ID Number Dataframe\n",
    "\n",
    "df_initial = pd.read_excel(initial_workbook) #3. Uploading Data\n",
    "df_info = pd.read_excel(info_workbook) #3. Uploading Data\n",
    "\n",
    "print(df_initial.columns) #4. Printing to see our columns\n",
    "print(df_info.columns) #4. Printing to see our columns\n"
   ]
  },
  {
   "cell_type": "code",
   "execution_count": 6,
   "metadata": {
    "scrolled": true
   },
   "outputs": [
    {
     "data": {
      "text/html": [
       "<div>\n",
       "<style scoped>\n",
       "    .dataframe tbody tr th:only-of-type {\n",
       "        vertical-align: middle;\n",
       "    }\n",
       "\n",
       "    .dataframe tbody tr th {\n",
       "        vertical-align: top;\n",
       "    }\n",
       "\n",
       "    .dataframe thead th {\n",
       "        text-align: right;\n",
       "    }\n",
       "</style>\n",
       "<table border=\"1\" class=\"dataframe\">\n",
       "  <thead>\n",
       "    <tr style=\"text-align: right;\">\n",
       "      <th></th>\n",
       "      <th>Bill To:</th>\n",
       "      <th>IDs</th>\n",
       "      <th>Amounts Due</th>\n",
       "      <th>PI</th>\n",
       "      <th>Type</th>\n",
       "    </tr>\n",
       "  </thead>\n",
       "  <tbody>\n",
       "    <tr>\n",
       "      <th>0</th>\n",
       "      <td>10/11/2019 -</td>\n",
       "      <td>100</td>\n",
       "      <td>13.79</td>\n",
       "      <td>Sutton</td>\n",
       "      <td>SHORT BURST DATA</td>\n",
       "    </tr>\n",
       "    <tr>\n",
       "      <th>1</th>\n",
       "      <td>NaN</td>\n",
       "      <td>101</td>\n",
       "      <td>13.79</td>\n",
       "      <td>McPhaden</td>\n",
       "      <td>SHORT BURST DATA</td>\n",
       "    </tr>\n",
       "    <tr>\n",
       "      <th>2</th>\n",
       "      <td>NaN</td>\n",
       "      <td>102</td>\n",
       "      <td>13.79</td>\n",
       "      <td>McPhaden</td>\n",
       "      <td>SHORT BURST DATA</td>\n",
       "    </tr>\n",
       "    <tr>\n",
       "      <th>3</th>\n",
       "      <td>NaN</td>\n",
       "      <td>103</td>\n",
       "      <td>13.79</td>\n",
       "      <td>McPhaden</td>\n",
       "      <td>SHORT BURST DATA</td>\n",
       "    </tr>\n",
       "    <tr>\n",
       "      <th>4</th>\n",
       "      <td>NaN</td>\n",
       "      <td>104</td>\n",
       "      <td>13.79</td>\n",
       "      <td>McPhaden</td>\n",
       "      <td>SHORT BURST DATA</td>\n",
       "    </tr>\n",
       "    <tr>\n",
       "      <th>...</th>\n",
       "      <td>...</td>\n",
       "      <td>...</td>\n",
       "      <td>...</td>\n",
       "      <td>...</td>\n",
       "      <td>...</td>\n",
       "    </tr>\n",
       "    <tr>\n",
       "      <th>496</th>\n",
       "      <td>NaN</td>\n",
       "      <td>881651461225</td>\n",
       "      <td>15.44</td>\n",
       "      <td>McPhaden</td>\n",
       "      <td>RUDICS</td>\n",
       "    </tr>\n",
       "    <tr>\n",
       "      <th>497</th>\n",
       "      <td>NaN</td>\n",
       "      <td>881651477444</td>\n",
       "      <td>15.44</td>\n",
       "      <td>Sutton</td>\n",
       "      <td>RUDICS</td>\n",
       "    </tr>\n",
       "    <tr>\n",
       "      <th>498</th>\n",
       "      <td>NaN</td>\n",
       "      <td>881651477445</td>\n",
       "      <td>32.44</td>\n",
       "      <td>Sutton</td>\n",
       "      <td>RUDICS</td>\n",
       "    </tr>\n",
       "    <tr>\n",
       "      <th>499</th>\n",
       "      <td>NaN</td>\n",
       "      <td>881651477579</td>\n",
       "      <td>60.69</td>\n",
       "      <td>Sutton</td>\n",
       "      <td>RUDICS</td>\n",
       "    </tr>\n",
       "    <tr>\n",
       "      <th>500</th>\n",
       "      <td>NaN</td>\n",
       "      <td>881651477580</td>\n",
       "      <td>15.44</td>\n",
       "      <td>Dziak</td>\n",
       "      <td>RUDICS</td>\n",
       "    </tr>\n",
       "  </tbody>\n",
       "</table>\n",
       "<p>501 rows × 5 columns</p>\n",
       "</div>"
      ],
      "text/plain": [
       "         Bill To:           IDs  Amounts Due        PI              Type\n",
       "0    10/11/2019 -           100        13.79    Sutton  SHORT BURST DATA\n",
       "1             NaN           101        13.79  McPhaden  SHORT BURST DATA\n",
       "2             NaN           102        13.79  McPhaden  SHORT BURST DATA\n",
       "3             NaN           103        13.79  McPhaden  SHORT BURST DATA\n",
       "4             NaN           104        13.79  McPhaden  SHORT BURST DATA\n",
       "..            ...           ...          ...       ...               ...\n",
       "496           NaN  881651461225        15.44  McPhaden            RUDICS\n",
       "497           NaN  881651477444        15.44    Sutton            RUDICS\n",
       "498           NaN  881651477445        32.44    Sutton            RUDICS\n",
       "499           NaN  881651477579        60.69    Sutton            RUDICS\n",
       "500           NaN  881651477580        15.44     Dziak            RUDICS\n",
       "\n",
       "[501 rows x 5 columns]"
      ]
     },
     "execution_count": 6,
     "metadata": {},
     "output_type": "execute_result"
    }
   ],
   "source": [
    "df_3 = pd.merge(df_initial, df_info[['IDs','PI','Type']], on='IDs', how='left') #5. Merging Our Files Based on ID Number\n",
    "df_3.to_excel('INMARSAT January 2021 Data.xlsx', index=False) #6. Saving Version to .csv\n",
    "\n",
    "df_3 #7. Checking My Work\n"
   ]
  },
  {
   "cell_type": "code",
   "execution_count": 7,
   "metadata": {
    "scrolled": false
   },
   "outputs": [
    {
     "data": {
      "text/plain": [
       "IDs                                              364995033151784\n",
       "Amounts Due                                              14435.3\n",
       "PI             SuttonMcPhadenMcPhadenMcPhadenMcPhadenMcPhaden...\n",
       "Type           SHORT BURST DATASHORT BURST DATASHORT BURST DA...\n",
       "dtype: object"
      ]
     },
     "execution_count": 7,
     "metadata": {},
     "output_type": "execute_result"
    }
   ],
   "source": [
    "df_3.sum(axis = 0, skipna = True) #8. Checking Amounts Due Totals"
   ]
  },
  {
   "cell_type": "markdown",
   "metadata": {},
   "source": [
    "## Generating PI and Type Billing Report\n",
    "1. Upload Merged .csv File, 2. Rename Column, 3. Organizing Based on 'PI' and 'Type', 4. Removing Column, 5. Saving Billing Report to .csv, 6. Checking My Work, 7. Checking Amounts Due Totals"
   ]
  },
  {
   "cell_type": "code",
   "execution_count": 8,
   "metadata": {
    "scrolled": true
   },
   "outputs": [
    {
     "data": {
      "text/html": [
       "<div>\n",
       "<style scoped>\n",
       "    .dataframe tbody tr th:only-of-type {\n",
       "        vertical-align: middle;\n",
       "    }\n",
       "\n",
       "    .dataframe tbody tr th {\n",
       "        vertical-align: top;\n",
       "    }\n",
       "\n",
       "    .dataframe thead th {\n",
       "        text-align: right;\n",
       "    }\n",
       "</style>\n",
       "<table border=\"1\" class=\"dataframe\">\n",
       "  <thead>\n",
       "    <tr style=\"text-align: right;\">\n",
       "      <th></th>\n",
       "      <th></th>\n",
       "      <th></th>\n",
       "      <th>Jan'21 Amounts Due</th>\n",
       "    </tr>\n",
       "    <tr>\n",
       "      <th>PI</th>\n",
       "      <th>Type</th>\n",
       "      <th>IDs</th>\n",
       "      <th></th>\n",
       "    </tr>\n",
       "  </thead>\n",
       "  <tbody>\n",
       "    <tr>\n",
       "      <th rowspan=\"5\" valign=\"top\">Cronin</th>\n",
       "      <th rowspan=\"5\" valign=\"top\">RUDICS</th>\n",
       "      <th>881621467686</th>\n",
       "      <td>15.44</td>\n",
       "    </tr>\n",
       "    <tr>\n",
       "      <th>881621467706</th>\n",
       "      <td>15.44</td>\n",
       "    </tr>\n",
       "    <tr>\n",
       "      <th>881621467707</th>\n",
       "      <td>15.44</td>\n",
       "    </tr>\n",
       "    <tr>\n",
       "      <th>881631439111</th>\n",
       "      <td>57.94</td>\n",
       "    </tr>\n",
       "    <tr>\n",
       "      <th>881631439114</th>\n",
       "      <td>19.69</td>\n",
       "    </tr>\n",
       "    <tr>\n",
       "      <th>...</th>\n",
       "      <th>...</th>\n",
       "      <th>...</th>\n",
       "      <td>...</td>\n",
       "    </tr>\n",
       "    <tr>\n",
       "      <th rowspan=\"4\" valign=\"top\">Sutton</th>\n",
       "      <th rowspan=\"4\" valign=\"top\">SHORT BURST DATA</th>\n",
       "      <th>127</th>\n",
       "      <td>13.79</td>\n",
       "    </tr>\n",
       "    <tr>\n",
       "      <th>128</th>\n",
       "      <td>13.79</td>\n",
       "    </tr>\n",
       "    <tr>\n",
       "      <th>129</th>\n",
       "      <td>13.79</td>\n",
       "    </tr>\n",
       "    <tr>\n",
       "      <th>137</th>\n",
       "      <td>20.39</td>\n",
       "    </tr>\n",
       "    <tr>\n",
       "      <th>Sutton DEACTIVATED 5/06/2021</th>\n",
       "      <th>Non-RUDICS</th>\n",
       "      <th>881621455248</th>\n",
       "      <td>46.94</td>\n",
       "    </tr>\n",
       "  </tbody>\n",
       "</table>\n",
       "<p>501 rows × 1 columns</p>\n",
       "</div>"
      ],
      "text/plain": [
       "                                                            Jan'21 Amounts Due\n",
       "PI                           Type             IDs                             \n",
       "Cronin                       RUDICS           881621467686               15.44\n",
       "                                              881621467706               15.44\n",
       "                                              881621467707               15.44\n",
       "                                              881631439111               57.94\n",
       "                                              881631439114               19.69\n",
       "...                                                                        ...\n",
       "Sutton                       SHORT BURST DATA 127                        13.79\n",
       "                                              128                        13.79\n",
       "                                              129                        13.79\n",
       "                                              137                        20.39\n",
       "Sutton DEACTIVATED 5/06/2021 Non-RUDICS       881621455248               46.94\n",
       "\n",
       "[501 rows x 1 columns]"
      ]
     },
     "execution_count": 8,
     "metadata": {},
     "output_type": "execute_result"
    }
   ],
   "source": [
    "df_3 = pd.read_excel('INMARSAT January 2021 Data.xlsx') #1. Upload Merged .csv File\n",
    "\n",
    "df_3 = df_3.rename(columns={\"Amounts Due\": \"Jan'21 Amounts Due\"}) #2. Rename Column *Change Month\n",
    "\n",
    "df_3 = df_3.groupby(['PI','Type','IDs']).sum() #3. Organizing Based on 'PI' and 'Type'\n",
    "\n",
    "#df_3 = df_3.drop(columns=['IDs']) #4. Removing Column\n",
    "\n",
    "df_3.to_excel('INMARSAT January 2021 BILL PI TYPES.xlsx') #5. Saving Billing Report to .csv\n",
    "\n",
    "df_3 #6. Checking My Work"
   ]
  },
  {
   "cell_type": "code",
   "execution_count": 9,
   "metadata": {
    "scrolled": false
   },
   "outputs": [
    {
     "data": {
      "text/plain": [
       "Jan'21 Amounts Due    14435.3\n",
       "dtype: float64"
      ]
     },
     "execution_count": 9,
     "metadata": {},
     "output_type": "execute_result"
    }
   ],
   "source": [
    "df_3.sum(axis = 0, skipna = True) #7. Checking Amounts Due Totals"
   ]
  },
  {
   "cell_type": "markdown",
   "metadata": {},
   "source": [
    "## Generating PI Billing Report\n",
    "1. Upload Merged .csv File, 2. Rename Column, 3. Organizing Based on 'PI', 4. Removing Column, 5. Saving Billing Report to .csv, 6. Checking My Work, 7. Checking Amounts Due Totals"
   ]
  },
  {
   "cell_type": "code",
   "execution_count": 10,
   "metadata": {
    "scrolled": true
   },
   "outputs": [
    {
     "data": {
      "text/html": [
       "<div>\n",
       "<style scoped>\n",
       "    .dataframe tbody tr th:only-of-type {\n",
       "        vertical-align: middle;\n",
       "    }\n",
       "\n",
       "    .dataframe tbody tr th {\n",
       "        vertical-align: top;\n",
       "    }\n",
       "\n",
       "    .dataframe thead th {\n",
       "        text-align: right;\n",
       "    }\n",
       "</style>\n",
       "<table border=\"1\" class=\"dataframe\">\n",
       "  <thead>\n",
       "    <tr style=\"text-align: right;\">\n",
       "      <th></th>\n",
       "      <th>4 Jan'21 Amounts Due</th>\n",
       "    </tr>\n",
       "    <tr>\n",
       "      <th>PI</th>\n",
       "      <th></th>\n",
       "    </tr>\n",
       "  </thead>\n",
       "  <tbody>\n",
       "    <tr>\n",
       "      <th>Cronin</th>\n",
       "      <td>300.91</td>\n",
       "    </tr>\n",
       "    <tr>\n",
       "      <th>Cross</th>\n",
       "      <td>189.00</td>\n",
       "    </tr>\n",
       "    <tr>\n",
       "      <th>Dziak</th>\n",
       "      <td>63.43</td>\n",
       "    </tr>\n",
       "    <tr>\n",
       "      <th>Feely</th>\n",
       "      <td>122.98</td>\n",
       "    </tr>\n",
       "    <tr>\n",
       "      <th>Johnson</th>\n",
       "      <td>7593.57</td>\n",
       "    </tr>\n",
       "    <tr>\n",
       "      <th>Klinck</th>\n",
       "      <td>15.44</td>\n",
       "    </tr>\n",
       "    <tr>\n",
       "      <th>McPhaden</th>\n",
       "      <td>2320.58</td>\n",
       "    </tr>\n",
       "    <tr>\n",
       "      <th>Meinig - Dziak</th>\n",
       "      <td>30.88</td>\n",
       "    </tr>\n",
       "    <tr>\n",
       "      <th>Meinig - Dziak DEACTIVATED 4/13/2021</th>\n",
       "      <td>15.44</td>\n",
       "    </tr>\n",
       "    <tr>\n",
       "      <th>Meinig - Feely</th>\n",
       "      <td>30.88</td>\n",
       "    </tr>\n",
       "    <tr>\n",
       "      <th>Meinig Chaba</th>\n",
       "      <td>16.94</td>\n",
       "    </tr>\n",
       "    <tr>\n",
       "      <th>Meinig FCOM1.0</th>\n",
       "      <td>15.44</td>\n",
       "    </tr>\n",
       "    <tr>\n",
       "      <th>Meinig Former DART</th>\n",
       "      <td>101.84</td>\n",
       "    </tr>\n",
       "    <tr>\n",
       "      <th>Meinig Former DART DEACTIVATED 4/20/2021</th>\n",
       "      <td>103.15</td>\n",
       "    </tr>\n",
       "    <tr>\n",
       "      <th>Meinig GNSS GPS</th>\n",
       "      <td>13.79</td>\n",
       "    </tr>\n",
       "    <tr>\n",
       "      <th>Meinig SPURS2</th>\n",
       "      <td>15.44</td>\n",
       "    </tr>\n",
       "    <tr>\n",
       "      <th>Meinig SPURS2 DEACTIVATED 04/20/2021</th>\n",
       "      <td>43.02</td>\n",
       "    </tr>\n",
       "    <tr>\n",
       "      <th>Mordy IOTAS-ITAE DEACTIVATED 4/20/2021</th>\n",
       "      <td>180.12</td>\n",
       "    </tr>\n",
       "    <tr>\n",
       "      <th>Mordy ITAE</th>\n",
       "      <td>471.95</td>\n",
       "    </tr>\n",
       "    <tr>\n",
       "      <th>Mordy ITAE DEACTIVED 3/10/2021</th>\n",
       "      <td>136.44</td>\n",
       "    </tr>\n",
       "    <tr>\n",
       "      <th>Stabeno</th>\n",
       "      <td>373.98</td>\n",
       "    </tr>\n",
       "    <tr>\n",
       "      <th>Sutton</th>\n",
       "      <td>2233.14</td>\n",
       "    </tr>\n",
       "    <tr>\n",
       "      <th>Sutton DEACTIVATED 5/06/2021</th>\n",
       "      <td>46.94</td>\n",
       "    </tr>\n",
       "  </tbody>\n",
       "</table>\n",
       "</div>"
      ],
      "text/plain": [
       "                                          4 Jan'21 Amounts Due\n",
       "PI                                                            \n",
       "Cronin                                                  300.91\n",
       "Cross                                                   189.00\n",
       "Dziak                                                    63.43\n",
       "Feely                                                   122.98\n",
       "Johnson                                                7593.57\n",
       "Klinck                                                   15.44\n",
       "McPhaden                                               2320.58\n",
       "Meinig - Dziak                                           30.88\n",
       "Meinig - Dziak DEACTIVATED 4/13/2021                     15.44\n",
       "Meinig - Feely                                           30.88\n",
       "Meinig Chaba                                             16.94\n",
       "Meinig FCOM1.0                                           15.44\n",
       "Meinig Former DART                                      101.84\n",
       "Meinig Former DART DEACTIVATED 4/20/2021                103.15\n",
       "Meinig GNSS GPS                                          13.79\n",
       "Meinig SPURS2                                            15.44\n",
       "Meinig SPURS2 DEACTIVATED 04/20/2021                     43.02\n",
       "Mordy IOTAS-ITAE DEACTIVATED 4/20/2021                  180.12\n",
       "Mordy ITAE                                              471.95\n",
       "Mordy ITAE DEACTIVED 3/10/2021                          136.44\n",
       "Stabeno                                                 373.98\n",
       "Sutton                                                 2233.14\n",
       "Sutton DEACTIVATED 5/06/2021                             46.94"
      ]
     },
     "execution_count": 10,
     "metadata": {},
     "output_type": "execute_result"
    }
   ],
   "source": [
    "df_3 = pd.read_excel('INMARSAT January 2021 Data.xlsx') #1. Upload Merged .csv File\n",
    "\n",
    "df_3 = df_3.rename(columns={\"Amounts Due\": \"4 Jan'21 Amounts Due\"}) #2. RenameColumn*Change Month\n",
    "\n",
    "df_3 = df_3.groupby(['PI']).sum() #3. Organizing Based on 'PI'\n",
    "\n",
    "df_3 = df_3.drop(columns=['IDs']) #4. Removing Column\n",
    "\n",
    "df_3.to_excel('INMARSAT January 2021 BILL PI.xlsx') #5. Saving Billing Report to .csv\n",
    "\n",
    "df_3 #6. Checking My Work"
   ]
  },
  {
   "cell_type": "code",
   "execution_count": 11,
   "metadata": {
    "scrolled": true
   },
   "outputs": [
    {
     "data": {
      "text/plain": [
       "4 Jan'21 Amounts Due    14435.3\n",
       "dtype: float64"
      ]
     },
     "execution_count": 11,
     "metadata": {},
     "output_type": "execute_result"
    }
   ],
   "source": [
    "df_3.sum(axis = 0, skipna = True) #7. Checking Amounts Due Totals"
   ]
  }
 ],
 "metadata": {
  "kernelspec": {
   "display_name": "Python 3",
   "language": "python",
   "name": "python3"
  },
  "language_info": {
   "codemirror_mode": {
    "name": "ipython",
    "version": 3
   },
   "file_extension": ".py",
   "mimetype": "text/x-python",
   "name": "python",
   "nbconvert_exporter": "python",
   "pygments_lexer": "ipython3",
   "version": "3.8.5"
  }
 },
 "nbformat": 4,
 "nbformat_minor": 4
}
