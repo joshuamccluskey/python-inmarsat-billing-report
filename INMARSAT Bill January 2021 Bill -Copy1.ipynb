{
 "cells": [
  {
   "cell_type": "markdown",
   "metadata": {},
   "source": [
    "# INMARSAT Feburary Bill 2021"
   ]
  },
  {
   "cell_type": "markdown",
   "metadata": {},
   "source": [
    "## Import Libraries"
   ]
  },
  {
   "cell_type": "code",
   "execution_count": 5,
   "metadata": {},
   "outputs": [],
   "source": [
    "import pandas as pd\n",
    "\n",
    "import numpy as np\n",
    "\n",
    "import re\n",
    "\n",
    "import os"
   ]
  },
  {
   "cell_type": "markdown",
   "metadata": {},
   "source": [
    "## Cleaning Data: \n",
    "1. Uploading Invoice, 2. Removing NaNs, 3. Renaming Columns Needed, 4. Filtering Totals, 5. Resetting Index To Current Filtered Rows, 6. Removing 'Unamed' Columns, 7. Getting ID Numbers For New 'IDs' Column, 8. Getting Amounts Creating New 'Amounts Due' Column, 9. Turning Amounts Due from Strings of Text into Numbers, 10. Removing 'ID' and 'Totals' Column, 11. Saving Version to .csv, 12. Checking My Work, 13. Checking Amounts Due Totals"
   ]
  },
  {
   "cell_type": "code",
   "execution_count": 6,
   "metadata": {
    "scrolled": false
   },
   "outputs": [
    {
     "ename": "UnicodeDecodeError",
     "evalue": "'utf-8' codec can't decode byte 0xa0 in position 7: invalid start byte",
     "output_type": "error",
     "traceback": [
      "\u001b[1;31m---------------------------------------------------------------------------\u001b[0m",
      "\u001b[1;31mUnicodeDecodeError\u001b[0m                        Traceback (most recent call last)",
      "\u001b[1;32mpandas\\_libs\\parsers.pyx\u001b[0m in \u001b[0;36mpandas._libs.parsers.TextReader._convert_tokens\u001b[1;34m()\u001b[0m\n",
      "\u001b[1;32mpandas\\_libs\\parsers.pyx\u001b[0m in \u001b[0;36mpandas._libs.parsers.TextReader._convert_with_dtype\u001b[1;34m()\u001b[0m\n",
      "\u001b[1;32mpandas\\_libs\\parsers.pyx\u001b[0m in \u001b[0;36mpandas._libs.parsers.TextReader._string_convert\u001b[1;34m()\u001b[0m\n",
      "\u001b[1;32mpandas\\_libs\\parsers.pyx\u001b[0m in \u001b[0;36mpandas._libs.parsers._string_box_utf8\u001b[1;34m()\u001b[0m\n",
      "\u001b[1;31mUnicodeDecodeError\u001b[0m: 'utf-8' codec can't decode byte 0xa0 in position 7: invalid start byte",
      "\nDuring handling of the above exception, another exception occurred:\n",
      "\u001b[1;31mUnicodeDecodeError\u001b[0m                        Traceback (most recent call last)",
      "\u001b[1;32m<ipython-input-6-6055c74f4554>\u001b[0m in \u001b[0;36m<module>\u001b[1;34m\u001b[0m\n\u001b[1;32m----> 1\u001b[1;33m \u001b[0mdf\u001b[0m \u001b[1;33m=\u001b[0m \u001b[0mpd\u001b[0m\u001b[1;33m.\u001b[0m\u001b[0mread_csv\u001b[0m\u001b[1;33m(\u001b[0m\u001b[1;34m'Feburary_2021_Invoice.csv'\u001b[0m\u001b[1;33m)\u001b[0m \u001b[1;31m#1. Uploading Invoice\u001b[0m\u001b[1;33m\u001b[0m\u001b[1;33m\u001b[0m\u001b[0m\n\u001b[0m\u001b[0;32m      2\u001b[0m \u001b[1;33m\u001b[0m\u001b[0m\n\u001b[0;32m      3\u001b[0m \u001b[0mdf\u001b[0m \u001b[1;33m=\u001b[0m \u001b[0mdf\u001b[0m\u001b[1;33m.\u001b[0m\u001b[0mfillna\u001b[0m\u001b[1;33m(\u001b[0m\u001b[1;34m\"\"\u001b[0m\u001b[1;33m)\u001b[0m \u001b[1;31m#2. Removing NaNs\u001b[0m\u001b[1;33m\u001b[0m\u001b[1;33m\u001b[0m\u001b[0m\n\u001b[0;32m      4\u001b[0m \u001b[1;33m\u001b[0m\u001b[0m\n\u001b[0;32m      5\u001b[0m \u001b[0mdf\u001b[0m \u001b[1;33m=\u001b[0m \u001b[0mdf\u001b[0m\u001b[1;33m.\u001b[0m\u001b[0mrename\u001b[0m\u001b[1;33m(\u001b[0m\u001b[0mcolumns\u001b[0m\u001b[1;33m=\u001b[0m\u001b[1;33m{\u001b[0m\u001b[1;34m\"Unnamed: 8\"\u001b[0m\u001b[1;33m:\u001b[0m \u001b[1;34m\"ID\"\u001b[0m\u001b[1;33m,\u001b[0m \u001b[1;34m\"Unnamed: 19\"\u001b[0m\u001b[1;33m:\u001b[0m \u001b[1;34m\"Totals\"\u001b[0m\u001b[1;33m}\u001b[0m\u001b[1;33m)\u001b[0m \u001b[1;31m#3. Renaming Columns Needed\u001b[0m\u001b[1;33m\u001b[0m\u001b[1;33m\u001b[0m\u001b[0m\n",
      "\u001b[1;32m~\\Anaconda3\\lib\\site-packages\\pandas\\io\\parsers.py\u001b[0m in \u001b[0;36mread_csv\u001b[1;34m(filepath_or_buffer, sep, delimiter, header, names, index_col, usecols, squeeze, prefix, mangle_dupe_cols, dtype, engine, converters, true_values, false_values, skipinitialspace, skiprows, skipfooter, nrows, na_values, keep_default_na, na_filter, verbose, skip_blank_lines, parse_dates, infer_datetime_format, keep_date_col, date_parser, dayfirst, cache_dates, iterator, chunksize, compression, thousands, decimal, lineterminator, quotechar, quoting, doublequote, escapechar, comment, encoding, dialect, error_bad_lines, warn_bad_lines, delim_whitespace, low_memory, memory_map, float_precision)\u001b[0m\n\u001b[0;32m    684\u001b[0m     )\n\u001b[0;32m    685\u001b[0m \u001b[1;33m\u001b[0m\u001b[0m\n\u001b[1;32m--> 686\u001b[1;33m     \u001b[1;32mreturn\u001b[0m \u001b[0m_read\u001b[0m\u001b[1;33m(\u001b[0m\u001b[0mfilepath_or_buffer\u001b[0m\u001b[1;33m,\u001b[0m \u001b[0mkwds\u001b[0m\u001b[1;33m)\u001b[0m\u001b[1;33m\u001b[0m\u001b[1;33m\u001b[0m\u001b[0m\n\u001b[0m\u001b[0;32m    687\u001b[0m \u001b[1;33m\u001b[0m\u001b[0m\n\u001b[0;32m    688\u001b[0m \u001b[1;33m\u001b[0m\u001b[0m\n",
      "\u001b[1;32m~\\Anaconda3\\lib\\site-packages\\pandas\\io\\parsers.py\u001b[0m in \u001b[0;36m_read\u001b[1;34m(filepath_or_buffer, kwds)\u001b[0m\n\u001b[0;32m    456\u001b[0m \u001b[1;33m\u001b[0m\u001b[0m\n\u001b[0;32m    457\u001b[0m     \u001b[1;32mtry\u001b[0m\u001b[1;33m:\u001b[0m\u001b[1;33m\u001b[0m\u001b[1;33m\u001b[0m\u001b[0m\n\u001b[1;32m--> 458\u001b[1;33m         \u001b[0mdata\u001b[0m \u001b[1;33m=\u001b[0m \u001b[0mparser\u001b[0m\u001b[1;33m.\u001b[0m\u001b[0mread\u001b[0m\u001b[1;33m(\u001b[0m\u001b[0mnrows\u001b[0m\u001b[1;33m)\u001b[0m\u001b[1;33m\u001b[0m\u001b[1;33m\u001b[0m\u001b[0m\n\u001b[0m\u001b[0;32m    459\u001b[0m     \u001b[1;32mfinally\u001b[0m\u001b[1;33m:\u001b[0m\u001b[1;33m\u001b[0m\u001b[1;33m\u001b[0m\u001b[0m\n\u001b[0;32m    460\u001b[0m         \u001b[0mparser\u001b[0m\u001b[1;33m.\u001b[0m\u001b[0mclose\u001b[0m\u001b[1;33m(\u001b[0m\u001b[1;33m)\u001b[0m\u001b[1;33m\u001b[0m\u001b[1;33m\u001b[0m\u001b[0m\n",
      "\u001b[1;32m~\\Anaconda3\\lib\\site-packages\\pandas\\io\\parsers.py\u001b[0m in \u001b[0;36mread\u001b[1;34m(self, nrows)\u001b[0m\n\u001b[0;32m   1194\u001b[0m     \u001b[1;32mdef\u001b[0m \u001b[0mread\u001b[0m\u001b[1;33m(\u001b[0m\u001b[0mself\u001b[0m\u001b[1;33m,\u001b[0m \u001b[0mnrows\u001b[0m\u001b[1;33m=\u001b[0m\u001b[1;32mNone\u001b[0m\u001b[1;33m)\u001b[0m\u001b[1;33m:\u001b[0m\u001b[1;33m\u001b[0m\u001b[1;33m\u001b[0m\u001b[0m\n\u001b[0;32m   1195\u001b[0m         \u001b[0mnrows\u001b[0m \u001b[1;33m=\u001b[0m \u001b[0m_validate_integer\u001b[0m\u001b[1;33m(\u001b[0m\u001b[1;34m\"nrows\"\u001b[0m\u001b[1;33m,\u001b[0m \u001b[0mnrows\u001b[0m\u001b[1;33m)\u001b[0m\u001b[1;33m\u001b[0m\u001b[1;33m\u001b[0m\u001b[0m\n\u001b[1;32m-> 1196\u001b[1;33m         \u001b[0mret\u001b[0m \u001b[1;33m=\u001b[0m \u001b[0mself\u001b[0m\u001b[1;33m.\u001b[0m\u001b[0m_engine\u001b[0m\u001b[1;33m.\u001b[0m\u001b[0mread\u001b[0m\u001b[1;33m(\u001b[0m\u001b[0mnrows\u001b[0m\u001b[1;33m)\u001b[0m\u001b[1;33m\u001b[0m\u001b[1;33m\u001b[0m\u001b[0m\n\u001b[0m\u001b[0;32m   1197\u001b[0m \u001b[1;33m\u001b[0m\u001b[0m\n\u001b[0;32m   1198\u001b[0m         \u001b[1;31m# May alter columns / col_dict\u001b[0m\u001b[1;33m\u001b[0m\u001b[1;33m\u001b[0m\u001b[1;33m\u001b[0m\u001b[0m\n",
      "\u001b[1;32m~\\Anaconda3\\lib\\site-packages\\pandas\\io\\parsers.py\u001b[0m in \u001b[0;36mread\u001b[1;34m(self, nrows)\u001b[0m\n\u001b[0;32m   2153\u001b[0m     \u001b[1;32mdef\u001b[0m \u001b[0mread\u001b[0m\u001b[1;33m(\u001b[0m\u001b[0mself\u001b[0m\u001b[1;33m,\u001b[0m \u001b[0mnrows\u001b[0m\u001b[1;33m=\u001b[0m\u001b[1;32mNone\u001b[0m\u001b[1;33m)\u001b[0m\u001b[1;33m:\u001b[0m\u001b[1;33m\u001b[0m\u001b[1;33m\u001b[0m\u001b[0m\n\u001b[0;32m   2154\u001b[0m         \u001b[1;32mtry\u001b[0m\u001b[1;33m:\u001b[0m\u001b[1;33m\u001b[0m\u001b[1;33m\u001b[0m\u001b[0m\n\u001b[1;32m-> 2155\u001b[1;33m             \u001b[0mdata\u001b[0m \u001b[1;33m=\u001b[0m \u001b[0mself\u001b[0m\u001b[1;33m.\u001b[0m\u001b[0m_reader\u001b[0m\u001b[1;33m.\u001b[0m\u001b[0mread\u001b[0m\u001b[1;33m(\u001b[0m\u001b[0mnrows\u001b[0m\u001b[1;33m)\u001b[0m\u001b[1;33m\u001b[0m\u001b[1;33m\u001b[0m\u001b[0m\n\u001b[0m\u001b[0;32m   2156\u001b[0m         \u001b[1;32mexcept\u001b[0m \u001b[0mStopIteration\u001b[0m\u001b[1;33m:\u001b[0m\u001b[1;33m\u001b[0m\u001b[1;33m\u001b[0m\u001b[0m\n\u001b[0;32m   2157\u001b[0m             \u001b[1;32mif\u001b[0m \u001b[0mself\u001b[0m\u001b[1;33m.\u001b[0m\u001b[0m_first_chunk\u001b[0m\u001b[1;33m:\u001b[0m\u001b[1;33m\u001b[0m\u001b[1;33m\u001b[0m\u001b[0m\n",
      "\u001b[1;32mpandas\\_libs\\parsers.pyx\u001b[0m in \u001b[0;36mpandas._libs.parsers.TextReader.read\u001b[1;34m()\u001b[0m\n",
      "\u001b[1;32mpandas\\_libs\\parsers.pyx\u001b[0m in \u001b[0;36mpandas._libs.parsers.TextReader._read_low_memory\u001b[1;34m()\u001b[0m\n",
      "\u001b[1;32mpandas\\_libs\\parsers.pyx\u001b[0m in \u001b[0;36mpandas._libs.parsers.TextReader._read_rows\u001b[1;34m()\u001b[0m\n",
      "\u001b[1;32mpandas\\_libs\\parsers.pyx\u001b[0m in \u001b[0;36mpandas._libs.parsers.TextReader._convert_column_data\u001b[1;34m()\u001b[0m\n",
      "\u001b[1;32mpandas\\_libs\\parsers.pyx\u001b[0m in \u001b[0;36mpandas._libs.parsers.TextReader._convert_tokens\u001b[1;34m()\u001b[0m\n",
      "\u001b[1;32mpandas\\_libs\\parsers.pyx\u001b[0m in \u001b[0;36mpandas._libs.parsers.TextReader._convert_with_dtype\u001b[1;34m()\u001b[0m\n",
      "\u001b[1;32mpandas\\_libs\\parsers.pyx\u001b[0m in \u001b[0;36mpandas._libs.parsers.TextReader._string_convert\u001b[1;34m()\u001b[0m\n",
      "\u001b[1;32mpandas\\_libs\\parsers.pyx\u001b[0m in \u001b[0;36mpandas._libs.parsers._string_box_utf8\u001b[1;34m()\u001b[0m\n",
      "\u001b[1;31mUnicodeDecodeError\u001b[0m: 'utf-8' codec can't decode byte 0xa0 in position 7: invalid start byte"
     ]
    }
   ],
   "source": [
    "df = pd.read_csv('Feburary_2021_Invoice.csv') #1. Uploading Invoice\n",
    "\n",
    "df = df.fillna(\"\") #2. Removing NaNs\n",
    "\n",
    "df = df.rename(columns={\"Unnamed: 8\": \"ID\", \"Unnamed: 19\": \"Totals\"}) #3. Renaming Columns Needed\n",
    "\n",
    "df = df.loc[df['ID'].str.contains('^to[a-z]*', flags=re.I, regex=True)] #4. Filtering Totals\n",
    "\n",
    "df = df.reset_index(drop=True) #5. Resetting Index To Current Filtered Rows\n",
    "\n",
    "df = df.loc[:, ~df.columns.str.contains('^Unnamed')] #6. Removing 'Unamed' Columns\n",
    "\n",
    "def get_ID(ID):\n",
    "    return ID.split(' ')[2] #7. Getting ID Numbers For New 'IDs' Column\n",
    "\n",
    "df['IDs'] = df['ID'].apply(lambda x: get_ID(x)) #7. Getting ID Numbers For New 'IDs' Column\n",
    "\n",
    "df['Amounts Due'] = df['Totals'].apply(lambda x: x.split('$')[1]) #8. Getting Amounts Creating New 'Amounts Due' Column\n",
    "\n",
    "df['Amounts Due'] = pd.to_numeric(df['Amounts Due']) #9. Turning Amounts Due from Strings of Text into Numbers\n",
    "\n",
    "df = df.drop(columns=['ID', 'Totals']) #10. Removing 'ID' and 'Totals' Column\n",
    "\n",
    "df.to_csv('INMARSAT Feburary 2021.csv', index=False) #11. Saving Version to CSV\n",
    "\n",
    "df #12. Checking My Work"
   ]
  },
  {
   "cell_type": "code",
   "execution_count": 4,
   "metadata": {
    "scrolled": false
   },
   "outputs": [
    {
     "data": {
      "text/plain": [
       "Bill To:       10/11/2019 -10/11/2019 -10/11/2019 -10/11/2019...\n",
       "IDs            0000000001000000000001010000000001020000000001...\n",
       "Amounts Due                                              14435.3\n",
       "dtype: object"
      ]
     },
     "execution_count": 4,
     "metadata": {},
     "output_type": "execute_result"
    }
   ],
   "source": [
    "df.sum(axis = 0, skipna = True) #13. Checking Amounts Due Totals"
   ]
  },
  {
   "cell_type": "markdown",
   "metadata": {},
   "source": [
    "## Merging .csv Files Based on ID Numbers\n",
    "1. Defining Our Previous Notebook Saved, 2. PI and ID Number Data, 3. Uploading Data, 4. Printing to see our columns, 5. Merging Our Files Based on ID Number, 6. Saving Version to .csv, 7. Checking My Work, 8. Checking Amounts Due Totals"
   ]
  },
  {
   "cell_type": "code",
   "execution_count": 5,
   "metadata": {
    "scrolled": true
   },
   "outputs": [
    {
     "name": "stdout",
     "output_type": "stream",
     "text": [
      "Index(['Bill To:', 'IDs', 'Amounts Due'], dtype='object')\n",
      "Index(['IDs', 'Type', 'PI'], dtype='object')\n"
     ]
    }
   ],
   "source": [
    "initial_workbook = 'INMARSAT January 2021.csv' #1. Defining Our Previous Notebook Saved\n",
    "info_workbook = 'Active DF COMPLETE Jan 12.xlsx' #2. Defining PI and ID Number Dataframe\n",
    "\n",
    "df_initial = pd.read_csv(initial_workbook) #3. Uploading Data\n",
    "df_info = pd.read_excel(info_workbook) #3. Uploading Data\n",
    "\n",
    "print(df_initial.columns) #4. Printing to see our columns\n",
    "print(df_info.columns) #4. Printing to see our columns\n"
   ]
  },
  {
   "cell_type": "code",
   "execution_count": 6,
   "metadata": {
    "scrolled": true
   },
   "outputs": [
    {
     "data": {
      "text/html": [
       "<div>\n",
       "<style scoped>\n",
       "    .dataframe tbody tr th:only-of-type {\n",
       "        vertical-align: middle;\n",
       "    }\n",
       "\n",
       "    .dataframe tbody tr th {\n",
       "        vertical-align: top;\n",
       "    }\n",
       "\n",
       "    .dataframe thead th {\n",
       "        text-align: right;\n",
       "    }\n",
       "</style>\n",
       "<table border=\"1\" class=\"dataframe\">\n",
       "  <thead>\n",
       "    <tr style=\"text-align: right;\">\n",
       "      <th></th>\n",
       "      <th>Bill To:</th>\n",
       "      <th>IDs</th>\n",
       "      <th>Amounts Due</th>\n",
       "      <th>PI</th>\n",
       "      <th>Type</th>\n",
       "    </tr>\n",
       "  </thead>\n",
       "  <tbody>\n",
       "    <tr>\n",
       "      <th>0</th>\n",
       "      <td>10/11/2019 -</td>\n",
       "      <td>100</td>\n",
       "      <td>13.79</td>\n",
       "      <td>Sutton</td>\n",
       "      <td>SHORT BURST DATA</td>\n",
       "    </tr>\n",
       "    <tr>\n",
       "      <th>1</th>\n",
       "      <td>NaN</td>\n",
       "      <td>101</td>\n",
       "      <td>13.79</td>\n",
       "      <td>McPhaden</td>\n",
       "      <td>SHORT BURST DATA</td>\n",
       "    </tr>\n",
       "    <tr>\n",
       "      <th>2</th>\n",
       "      <td>NaN</td>\n",
       "      <td>102</td>\n",
       "      <td>13.79</td>\n",
       "      <td>McPhaden</td>\n",
       "      <td>SHORT BURST DATA</td>\n",
       "    </tr>\n",
       "    <tr>\n",
       "      <th>3</th>\n",
       "      <td>NaN</td>\n",
       "      <td>103</td>\n",
       "      <td>13.79</td>\n",
       "      <td>McPhaden</td>\n",
       "      <td>SHORT BURST DATA</td>\n",
       "    </tr>\n",
       "    <tr>\n",
       "      <th>4</th>\n",
       "      <td>NaN</td>\n",
       "      <td>104</td>\n",
       "      <td>13.79</td>\n",
       "      <td>McPhaden</td>\n",
       "      <td>SHORT BURST DATA</td>\n",
       "    </tr>\n",
       "    <tr>\n",
       "      <th>...</th>\n",
       "      <td>...</td>\n",
       "      <td>...</td>\n",
       "      <td>...</td>\n",
       "      <td>...</td>\n",
       "      <td>...</td>\n",
       "    </tr>\n",
       "    <tr>\n",
       "      <th>496</th>\n",
       "      <td>NaN</td>\n",
       "      <td>881651461225</td>\n",
       "      <td>15.44</td>\n",
       "      <td>McPhaden</td>\n",
       "      <td>RUDICS</td>\n",
       "    </tr>\n",
       "    <tr>\n",
       "      <th>497</th>\n",
       "      <td>NaN</td>\n",
       "      <td>881651477444</td>\n",
       "      <td>15.44</td>\n",
       "      <td>Sutton</td>\n",
       "      <td>RUDICS</td>\n",
       "    </tr>\n",
       "    <tr>\n",
       "      <th>498</th>\n",
       "      <td>NaN</td>\n",
       "      <td>881651477445</td>\n",
       "      <td>32.44</td>\n",
       "      <td>Sutton</td>\n",
       "      <td>RUDICS</td>\n",
       "    </tr>\n",
       "    <tr>\n",
       "      <th>499</th>\n",
       "      <td>NaN</td>\n",
       "      <td>881651477579</td>\n",
       "      <td>60.69</td>\n",
       "      <td>Sutton</td>\n",
       "      <td>RUDICS</td>\n",
       "    </tr>\n",
       "    <tr>\n",
       "      <th>500</th>\n",
       "      <td>NaN</td>\n",
       "      <td>881651477580</td>\n",
       "      <td>15.44</td>\n",
       "      <td>Dziak</td>\n",
       "      <td>RUDICS</td>\n",
       "    </tr>\n",
       "  </tbody>\n",
       "</table>\n",
       "<p>501 rows × 5 columns</p>\n",
       "</div>"
      ],
      "text/plain": [
       "         Bill To:           IDs  Amounts Due        PI              Type\n",
       "0    10/11/2019 -           100        13.79    Sutton  SHORT BURST DATA\n",
       "1             NaN           101        13.79  McPhaden  SHORT BURST DATA\n",
       "2             NaN           102        13.79  McPhaden  SHORT BURST DATA\n",
       "3             NaN           103        13.79  McPhaden  SHORT BURST DATA\n",
       "4             NaN           104        13.79  McPhaden  SHORT BURST DATA\n",
       "..            ...           ...          ...       ...               ...\n",
       "496           NaN  881651461225        15.44  McPhaden            RUDICS\n",
       "497           NaN  881651477444        15.44    Sutton            RUDICS\n",
       "498           NaN  881651477445        32.44    Sutton            RUDICS\n",
       "499           NaN  881651477579        60.69    Sutton            RUDICS\n",
       "500           NaN  881651477580        15.44     Dziak            RUDICS\n",
       "\n",
       "[501 rows x 5 columns]"
      ]
     },
     "execution_count": 6,
     "metadata": {},
     "output_type": "execute_result"
    }
   ],
   "source": [
    "df_3 = pd.merge(df_initial, df_info[['IDs','PI','Type']], on='IDs', how='left') #5. Merging Our Files Based on ID Number\n",
    "df_3.to_csv('INMARSAT January 2021 Data.csv', index=False) #6. Saving Version to .csv\n",
    "\n",
    "df_3 #7. Checking My Work\n"
   ]
  },
  {
   "cell_type": "code",
   "execution_count": 7,
   "metadata": {
    "scrolled": true
   },
   "outputs": [
    {
     "data": {
      "text/plain": [
       "IDs                                              364995033151784\n",
       "Amounts Due                                              14435.3\n",
       "PI             SuttonMcPhadenMcPhadenMcPhadenMcPhadenMcPhaden...\n",
       "Type           SHORT BURST DATASHORT BURST DATASHORT BURST DA...\n",
       "dtype: object"
      ]
     },
     "execution_count": 7,
     "metadata": {},
     "output_type": "execute_result"
    }
   ],
   "source": [
    "df_3.sum(axis = 0, skipna = True) #8. Checking Amounts Due Totals"
   ]
  },
  {
   "cell_type": "markdown",
   "metadata": {},
   "source": [
    "## Generating PI and Type Billing Report\n",
    "1. Upload Merged .csv File, 2. Rename Column, 3. Organizing Based on 'PI' and 'Type', 4. Removing Column, 5. Saving Billing Report to .csv, 6. Checking My Work, 7. Checking Amounts Due Totals"
   ]
  },
  {
   "cell_type": "code",
   "execution_count": 8,
   "metadata": {
    "scrolled": true
   },
   "outputs": [
    {
     "data": {
      "text/html": [
       "<div>\n",
       "<style scoped>\n",
       "    .dataframe tbody tr th:only-of-type {\n",
       "        vertical-align: middle;\n",
       "    }\n",
       "\n",
       "    .dataframe tbody tr th {\n",
       "        vertical-align: top;\n",
       "    }\n",
       "\n",
       "    .dataframe thead th {\n",
       "        text-align: right;\n",
       "    }\n",
       "</style>\n",
       "<table border=\"1\" class=\"dataframe\">\n",
       "  <thead>\n",
       "    <tr style=\"text-align: right;\">\n",
       "      <th></th>\n",
       "      <th></th>\n",
       "      <th>Jan'21 Amounts Due</th>\n",
       "    </tr>\n",
       "    <tr>\n",
       "      <th>PI</th>\n",
       "      <th>Type</th>\n",
       "      <th></th>\n",
       "    </tr>\n",
       "  </thead>\n",
       "  <tbody>\n",
       "    <tr>\n",
       "      <th>Cronin</th>\n",
       "      <th>RUDICS</th>\n",
       "      <td>300.91</td>\n",
       "    </tr>\n",
       "    <tr>\n",
       "      <th>Cross</th>\n",
       "      <th>RUDICS</th>\n",
       "      <td>175.21</td>\n",
       "    </tr>\n",
       "    <tr>\n",
       "      <th rowspan=\"2\" valign=\"top\">Dziak</th>\n",
       "      <th>Non-RUDICS</th>\n",
       "      <td>47.99</td>\n",
       "    </tr>\n",
       "    <tr>\n",
       "      <th>RUDICS</th>\n",
       "      <td>61.76</td>\n",
       "    </tr>\n",
       "    <tr>\n",
       "      <th rowspan=\"2\" valign=\"top\">Feely</th>\n",
       "      <th>RUDICS</th>\n",
       "      <td>110.83</td>\n",
       "    </tr>\n",
       "    <tr>\n",
       "      <th>SHORT BURST DATA</th>\n",
       "      <td>43.03</td>\n",
       "    </tr>\n",
       "    <tr>\n",
       "      <th rowspan=\"2\" valign=\"top\">Johnson</th>\n",
       "      <th>RUDICS</th>\n",
       "      <td>7225.85</td>\n",
       "    </tr>\n",
       "    <tr>\n",
       "      <th>SHORT BURST DATA</th>\n",
       "      <td>367.72</td>\n",
       "    </tr>\n",
       "    <tr>\n",
       "      <th>Klinck</th>\n",
       "      <th>RUDICS</th>\n",
       "      <td>15.44</td>\n",
       "    </tr>\n",
       "    <tr>\n",
       "      <th rowspan=\"2\" valign=\"top\">McPhaden</th>\n",
       "      <th>RUDICS</th>\n",
       "      <td>2044.78</td>\n",
       "    </tr>\n",
       "    <tr>\n",
       "      <th>SHORT BURST DATA</th>\n",
       "      <td>275.80</td>\n",
       "    </tr>\n",
       "    <tr>\n",
       "      <th>Meinig Chaba</th>\n",
       "      <th>RUDICS</th>\n",
       "      <td>16.94</td>\n",
       "    </tr>\n",
       "    <tr>\n",
       "      <th rowspan=\"3\" valign=\"top\">Meinig DART</th>\n",
       "      <th>RUDICS</th>\n",
       "      <td>89.70</td>\n",
       "    </tr>\n",
       "    <tr>\n",
       "      <th>RUDICS VOICE</th>\n",
       "      <td>47.99</td>\n",
       "    </tr>\n",
       "    <tr>\n",
       "      <th>SHORT BURST DATA</th>\n",
       "      <td>82.74</td>\n",
       "    </tr>\n",
       "    <tr>\n",
       "      <th>Meinig GNSS GPS</th>\n",
       "      <th>SHORT BURST DATA</th>\n",
       "      <td>13.79</td>\n",
       "    </tr>\n",
       "    <tr>\n",
       "      <th rowspan=\"2\" valign=\"top\">Meinig SPURS2</th>\n",
       "      <th>RUDICS</th>\n",
       "      <td>30.88</td>\n",
       "    </tr>\n",
       "    <tr>\n",
       "      <th>SHORT BURST DATA</th>\n",
       "      <td>27.58</td>\n",
       "    </tr>\n",
       "    <tr>\n",
       "      <th>Mordy IOTAS-ITAE</th>\n",
       "      <th>SHORT BURST DATA</th>\n",
       "      <td>180.12</td>\n",
       "    </tr>\n",
       "    <tr>\n",
       "      <th>Mordy ITAE</th>\n",
       "      <th>RUDICS</th>\n",
       "      <td>623.83</td>\n",
       "    </tr>\n",
       "    <tr>\n",
       "      <th>Stabeno</th>\n",
       "      <th>SHORT BURST DATA</th>\n",
       "      <td>358.54</td>\n",
       "    </tr>\n",
       "    <tr>\n",
       "      <th rowspan=\"3\" valign=\"top\">Sutton</th>\n",
       "      <th>Non-RUDICS</th>\n",
       "      <td>62.38</td>\n",
       "    </tr>\n",
       "    <tr>\n",
       "      <th>RUDICS</th>\n",
       "      <td>2114.57</td>\n",
       "    </tr>\n",
       "    <tr>\n",
       "      <th>SHORT BURST DATA</th>\n",
       "      <td>116.92</td>\n",
       "    </tr>\n",
       "  </tbody>\n",
       "</table>\n",
       "</div>"
      ],
      "text/plain": [
       "                                   Jan'21 Amounts Due\n",
       "PI               Type                                \n",
       "Cronin           RUDICS                        300.91\n",
       "Cross            RUDICS                        175.21\n",
       "Dziak            Non-RUDICS                     47.99\n",
       "                 RUDICS                         61.76\n",
       "Feely            RUDICS                        110.83\n",
       "                 SHORT BURST DATA               43.03\n",
       "Johnson          RUDICS                       7225.85\n",
       "                 SHORT BURST DATA              367.72\n",
       "Klinck           RUDICS                         15.44\n",
       "McPhaden         RUDICS                       2044.78\n",
       "                 SHORT BURST DATA              275.80\n",
       "Meinig Chaba     RUDICS                         16.94\n",
       "Meinig DART      RUDICS                         89.70\n",
       "                 RUDICS VOICE                   47.99\n",
       "                 SHORT BURST DATA               82.74\n",
       "Meinig GNSS GPS  SHORT BURST DATA               13.79\n",
       "Meinig SPURS2    RUDICS                         30.88\n",
       "                 SHORT BURST DATA               27.58\n",
       "Mordy IOTAS-ITAE SHORT BURST DATA              180.12\n",
       "Mordy ITAE       RUDICS                        623.83\n",
       "Stabeno          SHORT BURST DATA              358.54\n",
       "Sutton           Non-RUDICS                     62.38\n",
       "                 RUDICS                       2114.57\n",
       "                 SHORT BURST DATA              116.92"
      ]
     },
     "execution_count": 8,
     "metadata": {},
     "output_type": "execute_result"
    }
   ],
   "source": [
    "df_3 = pd.read_csv('INMARSAT January 2021 Data.csv') #1. Upload Merged .csv File\n",
    "\n",
    "df_3 = df_3.rename(columns={\"Amounts Due\": \"Jan'21 Amounts Due\"}) #2. Rename Column\n",
    "\n",
    "df_3 = df_3.groupby(['PI', 'Type']).sum() #3. Organizing Based on 'PI' and 'Type'\n",
    "\n",
    "df_3 = df_3.drop(columns=['IDs']) #4. Removing Column\n",
    "\n",
    "df_3.to_csv('INMARSAT January 2021 BILL PI TYPES.csv') #5. Saving Billing Report to .csv\n",
    "\n",
    "df_3 #6. Checking My Work"
   ]
  },
  {
   "cell_type": "code",
   "execution_count": 11,
   "metadata": {
    "scrolled": true
   },
   "outputs": [
    {
     "data": {
      "text/plain": [
       "Jan'21 Amounts Due    14435.3\n",
       "dtype: float64"
      ]
     },
     "execution_count": 11,
     "metadata": {},
     "output_type": "execute_result"
    }
   ],
   "source": [
    "df_3.sum(axis = 0, skipna = True) #7. Checking Amounts Due Totals"
   ]
  },
  {
   "cell_type": "markdown",
   "metadata": {},
   "source": [
    "## Generating PI Billing Report\n",
    "1. Upload Merged .csv File, 2. Rename Column, 3. Organizing Based on 'PI', 4. Removing Column, 5. Saving Billing Report to .csv, 6. Checking My Work, 7. Checking Amounts Due Totals"
   ]
  },
  {
   "cell_type": "code",
   "execution_count": 12,
   "metadata": {
    "scrolled": true
   },
   "outputs": [
    {
     "data": {
      "text/html": [
       "<div>\n",
       "<style scoped>\n",
       "    .dataframe tbody tr th:only-of-type {\n",
       "        vertical-align: middle;\n",
       "    }\n",
       "\n",
       "    .dataframe tbody tr th {\n",
       "        vertical-align: top;\n",
       "    }\n",
       "\n",
       "    .dataframe thead th {\n",
       "        text-align: right;\n",
       "    }\n",
       "</style>\n",
       "<table border=\"1\" class=\"dataframe\">\n",
       "  <thead>\n",
       "    <tr style=\"text-align: right;\">\n",
       "      <th></th>\n",
       "      <th>Jan'21 Amounts Due</th>\n",
       "    </tr>\n",
       "    <tr>\n",
       "      <th>PI</th>\n",
       "      <th></th>\n",
       "    </tr>\n",
       "  </thead>\n",
       "  <tbody>\n",
       "    <tr>\n",
       "      <th>Cronin</th>\n",
       "      <td>300.91</td>\n",
       "    </tr>\n",
       "    <tr>\n",
       "      <th>Cross</th>\n",
       "      <td>175.21</td>\n",
       "    </tr>\n",
       "    <tr>\n",
       "      <th>Dziak</th>\n",
       "      <td>109.75</td>\n",
       "    </tr>\n",
       "    <tr>\n",
       "      <th>Feely</th>\n",
       "      <td>153.86</td>\n",
       "    </tr>\n",
       "    <tr>\n",
       "      <th>Johnson</th>\n",
       "      <td>7593.57</td>\n",
       "    </tr>\n",
       "    <tr>\n",
       "      <th>Klinck</th>\n",
       "      <td>15.44</td>\n",
       "    </tr>\n",
       "    <tr>\n",
       "      <th>McPhaden</th>\n",
       "      <td>2320.58</td>\n",
       "    </tr>\n",
       "    <tr>\n",
       "      <th>Meinig Chaba</th>\n",
       "      <td>16.94</td>\n",
       "    </tr>\n",
       "    <tr>\n",
       "      <th>Meinig DART</th>\n",
       "      <td>220.43</td>\n",
       "    </tr>\n",
       "    <tr>\n",
       "      <th>Meinig GNSS GPS</th>\n",
       "      <td>13.79</td>\n",
       "    </tr>\n",
       "    <tr>\n",
       "      <th>Meinig SPURS2</th>\n",
       "      <td>58.46</td>\n",
       "    </tr>\n",
       "    <tr>\n",
       "      <th>Mordy IOTAS-ITAE</th>\n",
       "      <td>180.12</td>\n",
       "    </tr>\n",
       "    <tr>\n",
       "      <th>Mordy ITAE</th>\n",
       "      <td>623.83</td>\n",
       "    </tr>\n",
       "    <tr>\n",
       "      <th>Stabeno</th>\n",
       "      <td>358.54</td>\n",
       "    </tr>\n",
       "    <tr>\n",
       "      <th>Sutton</th>\n",
       "      <td>2293.87</td>\n",
       "    </tr>\n",
       "  </tbody>\n",
       "</table>\n",
       "</div>"
      ],
      "text/plain": [
       "                  Jan'21 Amounts Due\n",
       "PI                                  \n",
       "Cronin                        300.91\n",
       "Cross                         175.21\n",
       "Dziak                         109.75\n",
       "Feely                         153.86\n",
       "Johnson                      7593.57\n",
       "Klinck                         15.44\n",
       "McPhaden                     2320.58\n",
       "Meinig Chaba                   16.94\n",
       "Meinig DART                   220.43\n",
       "Meinig GNSS GPS                13.79\n",
       "Meinig SPURS2                  58.46\n",
       "Mordy IOTAS-ITAE              180.12\n",
       "Mordy ITAE                    623.83\n",
       "Stabeno                       358.54\n",
       "Sutton                       2293.87"
      ]
     },
     "execution_count": 12,
     "metadata": {},
     "output_type": "execute_result"
    }
   ],
   "source": [
    "df_3 = pd.read_csv('INMARSAT January 2021 Data.csv') #1. Upload Merged .csv File\n",
    "\n",
    "df_3 = df_3.rename(columns={\"Amounts Due\": \"Jan'21 Amounts Due\"}) #2. Rename Column\n",
    "\n",
    "df_3 = df_3.groupby(['PI']).sum() #3. Organizing Based on 'PI'\n",
    "\n",
    "df_3 = df_3.drop(columns=['IDs']) #4. Removing Column\n",
    "\n",
    "df_3.to_csv('INMARSAT January 2021 BILL PI.csv') #5. Saving Billing Report to .csv\n",
    "\n",
    "df_3 #6. Checking My Work"
   ]
  },
  {
   "cell_type": "code",
   "execution_count": 13,
   "metadata": {
    "scrolled": false
   },
   "outputs": [
    {
     "data": {
      "text/plain": [
       "Jan'21 Amounts Due    14435.3\n",
       "dtype: float64"
      ]
     },
     "execution_count": 13,
     "metadata": {},
     "output_type": "execute_result"
    }
   ],
   "source": [
    "df_3.sum(axis = 0, skipna = True) #7. Checking Amounts Due Totals"
   ]
  }
 ],
 "metadata": {
  "kernelspec": {
   "display_name": "Python 3",
   "language": "python",
   "name": "python3"
  },
  "language_info": {
   "codemirror_mode": {
    "name": "ipython",
    "version": 3
   },
   "file_extension": ".py",
   "mimetype": "text/x-python",
   "name": "python",
   "nbconvert_exporter": "python",
   "pygments_lexer": "ipython3",
   "version": "3.8.5"
  }
 },
 "nbformat": 4,
 "nbformat_minor": 4
}
